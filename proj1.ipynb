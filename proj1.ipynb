{
 "cells": [
  {
   "cell_type": "code",
   "execution_count": 5,
   "metadata": {},
   "outputs": [],
   "source": [
    "from keras.models import load_model\n",
    "import numpy as np\n",
    "import cv2\n",
    "model =load_model('abc.h5')"
   ]
  },
  {
   "cell_type": "code",
   "execution_count": 6,
   "metadata": {},
   "outputs": [],
   "source": [
    "model.compile(optimizer='adam',loss='categorical_crossentropy',metrics=['accuracy'])"
   ]
  },
  {
   "cell_type": "code",
   "execution_count": 7,
   "metadata": {},
   "outputs": [],
   "source": [
    "from skimage.transform import resize\n",
    "def detect(frame):\n",
    "    try:\n",
    "        img= resize(frame,(128,128))\n",
    "        img = np.expand_dims(img,axis=0)\n",
    "        if(np.max(img)>1):\n",
    "            img =img/255.0\n",
    "        prediction =model.predict(img)\n",
    "        print (prediction)\n",
    "        prediction_class = model.predict_classes(img)\n",
    "        print(prediction_class)\n",
    "    except AttributeError:\n",
    "        print(\"shape not found\")"
   ]
  },
  {
   "cell_type": "code",
   "execution_count": 9,
   "metadata": {},
   "outputs": [
    {
     "name": "stderr",
     "output_type": "stream",
     "text": [
      "C:\\Users\\Hemanth\\Anaconda3\\lib\\site-packages\\skimage\\transform\\_warps.py:105: UserWarning: The default mode, 'constant', will be changed to 'reflect' in skimage 0.15.\n",
      "  warn(\"The default mode, 'constant', will be changed to 'reflect' in \"\n",
      "C:\\Users\\Hemanth\\Anaconda3\\lib\\site-packages\\skimage\\transform\\_warps.py:110: UserWarning: Anti-aliasing will be enabled by default in skimage 0.15 to avoid aliasing artifacts when down-sampling images.\n",
      "  warn(\"Anti-aliasing will be enabled by default in skimage 0.15 to \"\n"
     ]
    },
    {
     "name": "stdout",
     "output_type": "stream",
     "text": [
      "[[2.65044378e-07 1.22414894e-01 8.77584875e-01]]\n",
      "[2]\n"
     ]
    }
   ],
   "source": [
    "frame= cv2.imread(r\"C:\\Users\\Hemanth\\Desktop\\Dataset\\Train\\Bananna\\ban (7).jpeg\")\n",
    "data= detect(frame)"
   ]
  },
  {
   "cell_type": "code",
   "execution_count": 2,
   "metadata": {},
   "outputs": [
    {
     "name": "stdout",
     "output_type": "stream",
     "text": [
      "[1]\n",
      "Banana\n",
      "[2]\n",
      "Kiwi\n"
     ]
    }
   ],
   "source": [
    "#!/usr/bin/env python\n",
    "# coding: utf-8\n",
    "\n",
    "# In[8]:\n",
    "\n",
    "\n",
    "from tkinter import *\n",
    "root = Tk()\n",
    "root.configure(background = 'grey')\n",
    "import numpy as np\n",
    "from keras.preprocessing import image\n",
    "from PIL import ImageTk, Image\n",
    "from tkinter import filedialog\n",
    "import os\n",
    "from keras.models import load_model\n",
    "classifier = load_model(r'C:\\Users\\Hemanth\\abc.h5')\n",
    "classifier.compile(optimizer = 'adam', loss = 'categorical_crossentropy', metrics = ['accuracy'])\n",
    "\n",
    "root.geometry(\"550x400+500+250\")\n",
    "root.resizable(width=True, height=True)\n",
    "\n",
    "def openfn():\n",
    "    filename = filedialog.askopenfilename(title='open')\n",
    "    return filename\n",
    "\n",
    "def open_img():\n",
    "    root2 = Tk()\n",
    "    root2.configure(background = 'grey')\n",
    "    root2.geometry(\"550x400+500+250\")\n",
    "    root2.resizable(width=True, height=True)\n",
    "    x = openfn()\n",
    "    test_image = image.load_img(x, target_size = (128, 128))\n",
    "    test_image = image.img_to_array(test_image)\n",
    "    test_image = np.expand_dims(test_image, axis = 0)\n",
    "    result = classifier.predict_classes(test_image)\n",
    "    print(result)\n",
    "    index= ['Apple','Banana','Kiwi']\n",
    "    print(index[result[0]])\n",
    "    global label1 \n",
    "    label1= Label( root,text=\"\\n\\nPrediction : \"+str(index[result[0]]),font=\"Times 28\",bg=\"grey\",fg=\"cyan\")\n",
    "    global label \n",
    "    label= Label( root2,text=\"\\n\\nPrediction : \"+str(index[result[0]]),font=\"Times 28\",bg=\"grey\",fg=\"cyan\")\n",
    "    if result==[0]:\n",
    "        label2= Label(root2,text=\"\\n Nutrients of \"+str(index[result[0]]),font=\"Times 24\",bg=\"grey\", fg=\"yellow\")\n",
    "        label3= Label(root2,text=\"\\nCabohydrates:23g \\nProtien:1.1g \\nVitamin A:1 % \\nVitamin C:14% \\nIron:1%\\n\\n\",font=\"Times 16\",bg=\"grey\")\n",
    "        label.pack_forget()\n",
    "    elif result==[1] :\n",
    "        label2= Label(root2,text=\"\\n Nutrients of \"+str(index[result[0]]),font=\"Times 24\",bg=\"grey\", fg=\"orange\")\n",
    "        label3= Label(root2,text=\"\\nCabohydrates:9.57g \\nProtien:0.73g \\nVitamin A:1.5 % \\nVitamin C:23 % \\nCalcium:6 % \\nIron:4 %\\n\\n\",font=\"Times 16\",bg=\"grey\")\n",
    "    elif result==[2] :\n",
    "        label2= Label(root2,text=\"\\n Nutrients of \"+str(index[result[0]]),font=\"Times 24\",bg=\"grey\",fg=\"red\")\n",
    "        label3= Label(root2,text=\"\\nCabohydrates:28g \\nProtien:2g \\nVitamin C:44% \\nCalcium:4% \\nIron:9%\\n\\n\",font=\"Times 16\",bg=\"grey\")\n",
    "    elif result==[3] :\n",
    "        label2= Label(root2,text=\"\\n Nutrients of \"+str(index[result[0]]),font=\"Times 24\",bg=\"grey\",fg=\"black\")\n",
    "        label3= Label(root2,text=\"\\nCabohydrates:5.33g \\nProtien:0.17g \\nVitamin B-6: 0.012 mg \\nPotassium: 47 mg \\nIron:0.07mg\\n\\n\",font=\"Times 16\",bg=\"grey\")\n",
    "    else :\n",
    "        label2= Label(root2,text=\"\\n Nutrients of \"+str(index[result[0]]),font=\"Times 24\",bg=\"grey\",fg=\"green\")\n",
    "        label3= Label(root2,text=\"\\nCabohydrates:23g \\nProtien:1.1g \\nVitamin A:1 % \\nVitamin C:14% \\nIron:1% \\n\\n\",font=\"Times 16\",bg=\"grey\")\n",
    "    label.pack()\n",
    "    label2.pack()\n",
    "    label3.pack()\n",
    "    img = Image.open(x)\n",
    "    img = img.resize((128, 128), Image.ANTIALIAS)\n",
    "    img = ImageTk.PhotoImage(img)\n",
    "    label4=Label(root,text=\"\\n uploaded image is:\\n\").pack()\n",
    "    panel = Label(root, image=img)\n",
    "    panel.image =http://localhost:8888/notebooks/proj1.ipynb# img\n",
    "    panel.pack()\n",
    "\n",
    "    \n",
    "btn2 = Button(root, text='upload an image', command=open_img,relief=GROOVE ,width=30)\n",
    "btn2.pack()\n",
    "   \n",
    "root.mainloop()\n",
    "\n",
    "\n",
    "\n",
    "# In[ ]:\n",
    "\n",
    "\n",
    "\n",
    "\n"
   ]
  },
  {
   "cell_type": "code",
   "execution_count": null,
   "metadata": {},
   "outputs": [],
   "source": []
  }
 ],
 "metadata": {
  "kernelspec": {
   "display_name": "Python 3",
   "language": "python",
   "name": "python3"
  },
  "language_info": {
   "codemirror_mode": {
    "name": "ipython",
    "version": 3
   },
   "file_extension": ".py",
   "mimetype": "text/x-python",
   "name": "python",
   "nbconvert_exporter": "python",
   "pygments_lexer": "ipython3",
   "version": "3.7.3"
  }
 },
 "nbformat": 4,
 "nbformat_minor": 2
}
